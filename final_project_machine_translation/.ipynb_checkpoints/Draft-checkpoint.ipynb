{
 "cells": [
  {
   "cell_type": "markdown",
   "metadata": {},
   "source": [
    "# Draft"
   ]
  },
  {
   "cell_type": "code",
   "execution_count": 1,
   "metadata": {},
   "outputs": [],
   "source": [
    "# from keras.callbacks import ModelCheckpoint\n",
    "# from keras.models import load_model\n",
    "# filename = 'model.h1.24_jan_19'\n",
    "# checkpoint = ModelCheckpoint(filename, monitor='val_loss', verbose=1, save_best_only=True, mode='min')\n",
    "\n",
    "# history = model.fit(X_training, Y_training.reshape(np.shape(Y_training)[0], np.shape(Y_training)[1], 1),\n",
    "#                     epochs=30, batch_size=512, validation_split = 0.2,callbacks=[checkpoint], \n",
    "#                     verbose=1)\n",
    "# model = load_model('model.h1.24_jan_19')"
   ]
  },
  {
   "cell_type": "code",
   "execution_count": null,
   "metadata": {},
   "outputs": [],
   "source": [
    "# learn a model from french to English\n",
    "# dataX = pd.read_csv('vocab_fr.txt', delimiter = \"\\t\", header = None)\n",
    "# dataX.head()\n",
    "# dataY = pd.read_csv('vocab_en.txt', delimiter = \"\\t\", header = None)\n",
    "# dataY.head()"
   ]
  },
  {
   "cell_type": "code",
   "execution_count": null,
   "metadata": {},
   "outputs": [],
   "source": [
    "\n",
    "# record the time the model takes for each epoch\n",
    "# class TimeHistory(Callback):\n",
    "#     def on_train_begin(self, logs={}):\n",
    "#         self.times = []\n",
    "#     def on_epoch_begin(self, batch, logs={}):\n",
    "#         self.epoch_time_start = time.time()\n",
    "#     def on_epoch_end(self, batch, logs={}):\n",
    "#         self.times.append(time.time() - self.epoch_time_start)"
   ]
  },
  {
   "cell_type": "code",
   "execution_count": null,
   "metadata": {},
   "outputs": [],
   "source": [
    "# list all data in history\n",
    "# print(history.history.keys())"
   ]
  }
 ],
 "metadata": {
  "kernelspec": {
   "display_name": "Python 3",
   "language": "python",
   "name": "python3"
  },
  "language_info": {
   "codemirror_mode": {
    "name": "ipython",
    "version": 3
   },
   "file_extension": ".py",
   "mimetype": "text/x-python",
   "name": "python",
   "nbconvert_exporter": "python",
   "pygments_lexer": "ipython3",
   "version": "3.8.3"
  }
 },
 "nbformat": 4,
 "nbformat_minor": 4
}
